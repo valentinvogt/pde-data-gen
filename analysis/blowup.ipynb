{
 "cells": [
  {
   "cell_type": "code",
   "execution_count": 2,
   "metadata": {},
   "outputs": [],
   "source": [
    "import sys\n",
    "import os\n",
    "sys.path.append(\"/cluster/home/vogtva/pde-data-gen\")\n",
    "os.environ[\"HDF5_USE_FILE_LOCKING\"] = \"FALSE\""
   ]
  },
  {
   "cell_type": "code",
   "execution_count": 3,
   "metadata": {},
   "outputs": [],
   "source": [
    "import netCDF4 as nc\n",
    "import numpy as np\n",
    "import matplotlib.pyplot as plt\n",
    "import matplotlib.animation as animation\n",
    "import seaborn as sns\n",
    "from dotenv import load_dotenv\n",
    "from pandas.plotting import parallel_coordinates\n",
    "import importlib\n",
    "import plotly.express as px\n",
    "import os\n",
    "import glob\n",
    "import pandas as pd\n",
    "import json\n",
    "\n",
    "import src.db_tools as db_tools\n",
    "from src.db_tools import (\n",
    "    get_dataset,\n",
    "    filter_df,\n",
    "    filter_dataset,\n",
    "    expand_json_column,\n",
    "    make_animation,\n",
    "    metrics_grid,\n",
    "    plot_ball_behavior,\n",
    "    plot_all_trajectories,\n",
    ")\n",
    "import src.classify as classify\n",
    "from src.classify import classify_trajectories\n",
    "importlib.reload(db_tools)\n",
    "importlib.reload(classify);"
   ]
  },
  {
   "cell_type": "code",
   "execution_count": 4,
   "metadata": {},
   "outputs": [],
   "source": [
    "model = \"bruss\"\n",
    "ds_id = \"blowup\"\n",
    "ds, output_dir = get_dataset(model, ds_id)\n",
    "df = ds.df\n",
    "df[\"ratio_b_a\"] = df[\"B\"] / df[\"A\"]"
   ]
  },
  {
   "cell_type": "code",
   "execution_count": 6,
   "metadata": {},
   "outputs": [
    {
     "data": {
      "text/plain": [
       "array([4.75], dtype=float32)"
      ]
     },
     "execution_count": 6,
     "metadata": {},
     "output_type": "execute_result"
    }
   ],
   "source": [
    "df[\"A\"].unique()"
   ]
  },
  {
   "cell_type": "code",
   "execution_count": 5,
   "metadata": {},
   "outputs": [
    {
     "data": {
      "text/plain": [
       "array([5.0526314, 5.3486843, 5.644737 , 5.9407897, 6.236842 , 6.5328946,\n",
       "       6.8289475, 7.125    ], dtype=float32)"
      ]
     },
     "execution_count": 5,
     "metadata": {},
     "output_type": "execute_result"
    }
   ],
   "source": [
    "df[\"ratio_b_a\"].unique()"
   ]
  },
  {
   "cell_type": "code",
   "execution_count": 19,
   "metadata": {},
   "outputs": [],
   "source": [
    "# make a table of size df.dt.unique() x df.B.unique()\n",
    "# where each entry is the number of nans in the corresponding trajectory\n",
    "\n",
    "# get the number of nans in each trajectory\n",
    "for i, row in df.iterrows():\n",
    "    df.loc[i, \"n_nans\"] = np.isnan(np.array(ds.get_data(i))).sum()\n",
    "\n",
    "# make the table\n",
    "table = df.pivot_table(index=\"dt\", columns=\"B\", values=\"n_nans\", aggfunc=\"mean\")\n",
    "table = table.fillna(0)\n",
    "\n",
    "# for every B, get the largest dt that has no nans\n",
    "max_dts = []\n",
    "for col in table.columns:\n",
    "    # print(table[col])\n",
    "    max_dts.append(((table[col] > 0).iloc[::-1].idxmin()))"
   ]
  },
  {
   "cell_type": "code",
   "execution_count": 26,
   "metadata": {},
   "outputs": [
    {
     "data": {
      "text/plain": [
       "[<matplotlib.lines.Line2D at 0x154dae4774d0>]"
      ]
     },
     "execution_count": 26,
     "metadata": {},
     "output_type": "execute_result"
    },
    {
     "data": {
      "image/png": "[encoded data removed]",
      "text/plain": [
       "<Figure size 640x480 with 1 Axes>"
      ]
     },
     "metadata": {},
     "output_type": "display_data"
    }
   ],
   "source": [
    "# plot B vs. max_dts\n",
    "plt.plot(table.columns, max_dts)\n",
    "plt.plot(table.columns, 0.05 / table.columns)"
   ]
  },
  {
   "cell_type": "code",
   "execution_count": 5,
   "metadata": {},
   "outputs": [
    {
     "data": {
      "text/html": [
       "<div>\n",
       "<style scoped>\n",
       "    .dataframe tbody tr th:only-of-type {\n",
       "        vertical-align: middle;\n",
       "    }\n",
       "\n",
       "    .dataframe tbody tr th {\n",
       "        vertical-align: top;\n",
       "    }\n",
       "\n",
       "    .dataframe thead th {\n",
       "        text-align: right;\n",
       "    }\n",
       "</style>\n",
       "<table border=\"1\" class=\"dataframe\">\n",
       "  <thead>\n",
       "    <tr style=\"text-align: right;\">\n",
       "      <th>B</th>\n",
       "      <th>24.00000</th>\n",
       "      <th>25.40625</th>\n",
       "      <th>26.81250</th>\n",
       "      <th>28.21875</th>\n",
       "      <th>29.62500</th>\n",
       "      <th>31.03125</th>\n",
       "      <th>32.43750</th>\n",
       "      <th>33.84375</th>\n",
       "    </tr>\n",
       "    <tr>\n",
       "      <th>dt</th>\n",
       "      <th></th>\n",
       "      <th></th>\n",
       "      <th></th>\n",
       "      <th></th>\n",
       "      <th></th>\n",
       "      <th></th>\n",
       "      <th></th>\n",
       "      <th></th>\n",
       "    </tr>\n",
       "  </thead>\n",
       "  <tbody>\n",
       "    <tr>\n",
       "      <th>0.0001</th>\n",
       "      <td>0.0</td>\n",
       "      <td>0.0</td>\n",
       "      <td>0.0</td>\n",
       "      <td>0.0</td>\n",
       "      <td>0.0</td>\n",
       "      <td>0.0</td>\n",
       "      <td>0.0</td>\n",
       "      <td>0.0</td>\n",
       "    </tr>\n",
       "    <tr>\n",
       "      <th>0.0005</th>\n",
       "      <td>0.0</td>\n",
       "      <td>0.0</td>\n",
       "      <td>0.0</td>\n",
       "      <td>0.0</td>\n",
       "      <td>0.0</td>\n",
       "      <td>0.0</td>\n",
       "      <td>0.0</td>\n",
       "      <td>0.0</td>\n",
       "    </tr>\n",
       "    <tr>\n",
       "      <th>0.0010</th>\n",
       "      <td>0.0</td>\n",
       "      <td>0.0</td>\n",
       "      <td>0.0</td>\n",
       "      <td>0.0</td>\n",
       "      <td>0.0</td>\n",
       "      <td>0.0</td>\n",
       "      <td>3109600.0</td>\n",
       "      <td>3075800.0</td>\n",
       "    </tr>\n",
       "    <tr>\n",
       "      <th>0.0015</th>\n",
       "      <td>0.0</td>\n",
       "      <td>0.0</td>\n",
       "      <td>0.0</td>\n",
       "      <td>304200.0</td>\n",
       "      <td>3143400.0</td>\n",
       "      <td>3143400.0</td>\n",
       "      <td>3109600.0</td>\n",
       "      <td>3075800.0</td>\n",
       "    </tr>\n",
       "    <tr>\n",
       "      <th>0.0020</th>\n",
       "      <td>0.0</td>\n",
       "      <td>0.0</td>\n",
       "      <td>2906800.0</td>\n",
       "      <td>3143400.0</td>\n",
       "      <td>3143400.0</td>\n",
       "      <td>3109600.0</td>\n",
       "      <td>3109600.0</td>\n",
       "      <td>3075800.0</td>\n",
       "    </tr>\n",
       "    <tr>\n",
       "      <th>0.0025</th>\n",
       "      <td>0.0</td>\n",
       "      <td>3177200.0</td>\n",
       "      <td>3177200.0</td>\n",
       "      <td>3143400.0</td>\n",
       "      <td>3143400.0</td>\n",
       "      <td>3143400.0</td>\n",
       "      <td>3109600.0</td>\n",
       "      <td>3075800.0</td>\n",
       "    </tr>\n",
       "  </tbody>\n",
       "</table>\n",
       "</div>"
      ],
      "text/plain": [
       "B       24.00000   25.40625   26.81250   28.21875   29.62500   31.03125  \\\n",
       "dt                                                                        \n",
       "0.0001       0.0        0.0        0.0        0.0        0.0        0.0   \n",
       "0.0005       0.0        0.0        0.0        0.0        0.0        0.0   \n",
       "0.0010       0.0        0.0        0.0        0.0        0.0        0.0   \n",
       "0.0015       0.0        0.0        0.0   304200.0  3143400.0  3143400.0   \n",
       "0.0020       0.0        0.0  2906800.0  3143400.0  3143400.0  3109600.0   \n",
       "0.0025       0.0  3177200.0  3177200.0  3143400.0  3143400.0  3143400.0   \n",
       "\n",
       "B        32.43750   33.84375  \n",
       "dt                            \n",
       "0.0001        0.0        0.0  \n",
       "0.0005        0.0        0.0  \n",
       "0.0010  3109600.0  3075800.0  \n",
       "0.0015  3109600.0  3075800.0  \n",
       "0.0020  3109600.0  3075800.0  \n",
       "0.0025  3109600.0  3075800.0  "
      ]
     },
     "execution_count": 5,
     "metadata": {},
     "output_type": "execute_result"
    }
   ],
   "source": [
    "table"
   ]
  },
  {
   "cell_type": "code",
   "execution_count": 16,
   "metadata": {},
   "outputs": [],
   "source": [
    "df_sub = df[df.B == 24]"
   ]
  },
  {
   "cell_type": "code",
   "execution_count": 17,
   "metadata": {},
   "outputs": [],
   "source": [
    "# for i, row in df_sub.iterrows():\n",
    "#     make_animation(ds.get_data(row.idx), f\"{row[\"dt\"]:.5f} \"out/blowup/\")"
   ]
  },
  {
   "cell_type": "code",
   "execution_count": 18,
   "metadata": {},
   "outputs": [
    {
     "data": {
      "application/vnd.plotly.v1+json": {
       "config": {
        "plotlyServerURL": "https://plot.ly"
       },
       "data": [
        {
         "hovertemplate": "Index: %{x}<br>Value: %{y:.2f}<extra></extra>",
         "mode": "lines",
         "name": "dt = 0.0024999999441206455",
         "type": "scatter",
         "x": [
          0,
          1.0101010101010102,
          2.0202020202020203,
          3.0303030303030303,
          4.040404040404041,
          5.050505050505051,
          6.0606060606060606,
          7.070707070707071,
          8.080808080808081,
          9.090909090909092,
          10.101010101010102,
          11.111111111111112,
          12.121212121212121,
          13.131313131313131,
          14.141414141414142,
          15.151515151515152,
          16.161616161616163,
          17.171717171717173,
          18.181818181818183,
          19.191919191919194,
          20.202020202020204,
          21.212121212121215,
          22.222222222222225,
          23.232323232323235,
          24.242424242424242,
          25.252525252525253,
          26.262626262626263,
          27.272727272727273,
          28.282828282828284,
          29.292929292929294,
          30.303030303030305,
          31.313131313131315,
          32.323232323232325,
          33.333333333333336,
          34.343434343434346,
          35.35353535353536,
          36.36363636363637,
          37.37373737373738,
          38.38383838383839,
          39.3939393939394,
          40.40404040404041,
          41.41414141414142,
          42.42424242424243,
          43.43434343434344,
          44.44444444444445,
          45.45454545454546,
          46.46464646464647,
          47.47474747474748,
          48.484848484848484,
          49.494949494949495,
          50.505050505050505,
          51.515151515151516,
          52.525252525252526,
          53.535353535353536,
          54.54545454545455,
          55.55555555555556,
          56.56565656565657,
          57.57575757575758,
          58.58585858585859,
          59.5959595959596,
          60.60606060606061,
          61.61616161616162,
          62.62626262626263,
          63.63636363636364,
          64.64646464646465,
          65.65656565656566,
          66.66666666666667,
          67.67676767676768,
          68.68686868686869,
          69.6969696969697,
          70.70707070707071,
          71.71717171717172,
          72.72727272727273,
          73.73737373737374,
          74.74747474747475,
          75.75757575757576,
          76.76767676767678,
          77.77777777777779,
          78.7878787878788,
          79.7979797979798,
          80.80808080808082,
          81.81818181818183,
          82.82828282828284,
          83.83838383838385,
          84.84848484848486,
          85.85858585858587,
          86.86868686868688,
          87.87878787878789,
          88.8888888888889,
          89.89898989898991,
          90.90909090909092,
          91.91919191919193,
          92.92929292929294,
          93.93939393939395,
          94.94949494949496,
          95.95959595959597,
          96.96969696969697,
          97.97979797979798,
          98.98989898989899,
          100
         ],
         "y": [
          8.236634254455566,
          22.049678802490234,
          21.001300811767578,
          0.4694373309612274,
          33.42317199707031,
          67.74293518066406,
          80.60791015625,
          589.3096313476562,
          586.6263427734375,
          582.1513061523438,
          566.1316528320312,
          1234.1142578125,
          71.5998306274414,
          589.8765258789062,
          587.4639892578125,
          583.6793823242188,
          574.6744995117188,
          1935.3541259765625,
          256.55352783203125,
          561.3750610351562,
          588.2095336914062,
          584.924560546875,
          578.4320678710938,
          3006.02587890625,
          514.3238525390625,
          159.3134307861328,
          588.8758544921875,
          585.9703369140625,
          580.8382568359375,
          520.23388671875,
          877.5497436523438,
          29.949970245361328,
          589.47998046875,
          586.875244140625,
          582.6184692382812,
          569.6444702148438,
          1398.796142578125,
          115.78233337402344,
          589.96484375,
          587.6691284179688,
          584.0259399414062,
          575.85791015625,
          2154.52001953125,
          312.5389709472656,
          449.71270751953125,
          588.3870849609375,
          585.2114868164062,
          579.1541748046875,
          3052.173095703125,
          601.0489501953125,
          119.61673736572266,
          589.0535278320312,
          586.2463989257812,
          581.4153442382812,
          555.3900146484375,
          1012.9337768554688,
          10.188522338867188,
          589.653076171875,
          587.1351928710938,
          583.1017456054688,
          572.3074951171875,
          1628.139404296875,
          177.5964813232422,
          589.0070190429688,
          587.9338989257812,
          584.477783203125,
          577.246826171875,
          2545.78662109375,
          410.560302734375,
          241.4495849609375,
          588.6490478515625,
          585.624755859375,
          580.1057739257812,
          3867.597412109375,
          739.9258422851562,
          71.4757308959961,
          589.2872314453125,
          586.5983276367188,
          582.10595703125,
          565.7684326171875,
          1220.418212890625,
          68.2804946899414,
          589.8674926757812,
          587.4519653320312,
          583.6609497070312,
          574.6246337890625,
          1917.7020263671875,
          252.6412811279297,
          564.5492553710938,
          588.2008056640625,
          584.9147338867188,
          578.4185180664062,
          2985.9111328125,
          514.6126708984375,
          158.2496795654297,
          588.884765625,
          585.9871215820312,
          580.8872680664062,
          527.952880859375,
          884.3912353515625
         ]
        },
        {
         "hovertemplate": "Index: %{x}<br>Value: %{y:.2f}<extra></extra>",
         "mode": "lines",
         "name": "dt = 0.0020000000949949026",
         "type": "scatter",
         "x": [
          0,
          1.0101010101010102,
          2.0202020202020203,
          3.0303030303030303,
          4.040404040404041,
          5.050505050505051,
          6.0606060606060606,
          7.070707070707071,
          8.080808080808081,
          9.090909090909092,
          10.101010101010102,
          11.111111111111112,
          12.121212121212121,
          13.131313131313131,
          14.141414141414142,
          15.151515151515152,
          16.161616161616163,
          17.171717171717173,
          18.181818181818183,
          19.191919191919194,
          20.202020202020204,
          21.212121212121215,
          22.222222222222225,
          23.232323232323235,
          24.242424242424242,
          25.252525252525253,
          26.262626262626263,
          27.272727272727273,
          28.282828282828284,
          29.292929292929294,
          30.303030303030305,
          31.313131313131315,
          32.323232323232325,
          33.333333333333336,
          34.343434343434346,
          35.35353535353536,
          36.36363636363637,
          37.37373737373738,
          38.38383838383839,
          39.3939393939394,
          40.40404040404041,
          41.41414141414142,
          42.42424242424243,
          43.43434343434344,
          44.44444444444445,
          45.45454545454546,
          46.46464646464647,
          47.47474747474748,
          48.484848484848484,
          49.494949494949495,
          50.505050505050505,
          51.515151515151516,
          52.525252525252526,
          53.535353535353536,
          54.54545454545455,
          55.55555555555556,
          56.56565656565657,
          57.57575757575758,
          58.58585858585859,
          59.5959595959596,
          60.60606060606061,
          61.61616161616162,
          62.62626262626263,
          63.63636363636364,
          64.64646464646465,
          65.65656565656566,
          66.66666666666667,
          67.67676767676768,
          68.68686868686869,
          69.6969696969697,
          70.70707070707071,
          71.71717171717172,
          72.72727272727273,
          73.73737373737374,
          74.74747474747475,
          75.75757575757576,
          76.76767676767678,
          77.77777777777779,
          78.7878787878788,
          79.7979797979798,
          80.80808080808082,
          81.81818181818183,
          82.82828282828284,
          83.83838383838385,
          84.84848484848486,
          85.85858585858587,
          86.86868686868688,
          87.87878787878789,
          88.8888888888889,
          89.89898989898991,
          90.90909090909092,
          91.91919191919193,
          92.92929292929294,
          93.93939393939395,
          94.94949494949496,
          95.95959595959597,
          96.96969696969697,
          97.97979797979798,
          98.98989898989899,
          100
         ],
         "y": [
          6.535724639892578,
          16.08930206298828,
          17.58144760131836,
          2.191909074783325,
          44.38785934448242,
          72.61427307128906,
          80.08393859863281,
          173.2467041015625,
          588.7050170898438,
          587.945068359375,
          584.4894409179688,
          577.268798828125,
          2487.287841796875,
          395.8124694824219,
          258.923095703125,
          588.614013671875,
          585.566650390625,
          579.9734497070312,
          3634.985107421875,
          697.9111328125,
          84.9937744140625,
          589.2235717773438,
          586.495849609375,
          581.9000244140625,
          563.4520874023438,
          1121.479736328125,
          40.275550842285156,
          589.7696533203125,
          587.3016967773438,
          583.3895874023438,
          573.5330200195312,
          1723.9161376953125,
          201.75160217285156,
          586.6876831054688,
          588.0222778320312,
          584.6141357421875,
          577.6105346679688,
          2594.8974609375,
          421.4524230957031,
          227.6403350830078,
          588.6722412109375,
          585.655517578125,
          580.1607666015625,
          4261.03662109375,
          727.033935546875,
          75.91641235351562,
          589.265625,
          586.558837890625,
          582.0225830078125,
          564.8255615234375,
          1159.191650390625,
          50.76372146606445,
          589.8088989257812,
          587.3579711914062,
          583.4885864257812,
          573.9348754882812,
          1778.433837890625,
          215.8788299560547,
          583.8447265625,
          588.0734252929688,
          584.697265625,
          577.8370971679688,
          2674.497314453125,
          441.026123046875,
          208.17108154296875,
          588.7191162109375,
          585.7265625,
          580.3192749023438,
          4159.048828125,
          754.0177612304688,
          67.31668853759766,
          589.3076171875,
          586.6205444335938,
          582.1414184570312,
          566.0054931640625,
          1197.609130859375,
          61.37921142578125,
          589.8458251953125,
          587.4136352539062,
          583.5855102539062,
          574.3094482421875,
          1833.853271484375,
          230.17523193359375,
          578.8740234375,
          588.123046875,
          584.7806396484375,
          578.053955078125,
          2755.12841796875,
          460.78497314453125,
          191.81890869140625,
          588.7637329101562,
          585.7969970703125,
          580.4713134765625,
          311.2345275878906,
          782.092041015625,
          58.53581619262695,
          589.3496704101562,
          586.6834106445312,
          582.2613525390625,
          567.2393188476562
         ]
        },
        {
         "hovertemplate": "Index: %{x}<br>Value: %{y:.2f}<extra></extra>",
         "mode": "lines",
         "name": "dt = 0.001500000013038516",
         "type": "scatter",
         "x": [
          0,
          1.0101010101010102,
          2.0202020202020203,
          3.0303030303030303,
          4.040404040404041,
          5.050505050505051,
          6.0606060606060606,
          7.070707070707071,
          8.080808080808081,
          9.090909090909092,
          10.101010101010102,
          11.111111111111112,
          12.121212121212121,
          13.131313131313131,
          14.141414141414142,
          15.151515151515152,
          16.161616161616163,
          17.171717171717173,
          18.181818181818183,
          19.191919191919194,
          20.202020202020204,
          21.212121212121215,
          22.222222222222225,
          23.232323232323235,
          24.242424242424242,
          25.252525252525253,
          26.262626262626263,
          27.272727272727273,
          28.282828282828284,
          29.292929292929294,
          30.303030303030305,
          31.313131313131315,
          32.323232323232325,
          33.333333333333336,
          34.343434343434346,
          35.35353535353536,
          36.36363636363637,
          37.37373737373738,
          38.38383838383839,
          39.3939393939394,
          40.40404040404041,
          41.41414141414142,
          42.42424242424243,
          43.43434343434344,
          44.44444444444445,
          45.45454545454546,
          46.46464646464647,
          47.47474747474748,
          48.484848484848484,
          49.494949494949495,
          50.505050505050505,
          51.515151515151516,
          52.525252525252526,
          53.535353535353536,
          54.54545454545455,
          55.55555555555556,
          56.56565656565657,
          57.57575757575758,
          58.58585858585859,
          59.5959595959596,
          60.60606060606061,
          61.61616161616162,
          62.62626262626263,
          63.63636363636364,
          64.64646464646465,
          65.65656565656566,
          66.66666666666667,
          67.67676767676768,
          68.68686868686869,
          69.6969696969697,
          70.70707070707071,
          71.71717171717172,
          72.72727272727273,
          73.73737373737374,
          74.74747474747475,
          75.75757575757576,
          76.76767676767678,
          77.77777777777779,
          78.7878787878788,
          79.7979797979798,
          80.80808080808082,
          81.81818181818183,
          82.82828282828284,
          83.83838383838385,
          84.84848484848486,
          85.85858585858587,
          86.86868686868688,
          87.87878787878789,
          88.8888888888889,
          89.89898989898991,
          90.90909090909092,
          91.91919191919193,
          92.92929292929294,
          93.93939393939395,
          94.94949494949496,
          95.95959595959597,
          96.96969696969697,
          97.97979797979798,
          98.98989898989899,
          100
         ],
         "y": [
          14.210115432739258,
          16.12042999267578,
          0.633274257183075,
          37.304473876953125,
          61.34965515136719,
          57.96407699584961,
          70.13920593261719,
          589.9190063476562,
          587.6223754882812,
          583.9483032226562,
          575.6124877929688,
          2049.614990234375,
          285.5608215332031,
          509.56951904296875,
          588.3075561523438,
          585.0777587890625,
          578.8165893554688,
          3054.0927734375,
          533.8489379882812,
          147.40164184570312,
          588.9249877929688,
          586.04541015625,
          580.9963989257812,
          536.5302734375,
          880.2973022460938,
          28.527462005615234,
          589.4915771484375,
          586.8936767578125,
          582.653076171875,
          569.844970703125,
          1370.8128662109375,
          108.7588119506836,
          589.956298828125,
          587.6466064453125,
          583.988525390625,
          575.7338256835938,
          2073.470947265625,
          291.6075744628906,
          495.8703918457031,
          588.326416015625,
          585.1078491210938,
          578.8884887695312,
          3088.59716796875,
          544.4535522460938,
          141.16763305664062,
          588.9579467773438,
          586.105712890625,
          581.1369018554688,
          546.1563720703125,
          920.4525146484375,
          15.480203628540039,
          589.5546264648438,
          586.9931030273438,
          582.8514404296875,
          571.0733642578125,
          1464.92724609375,
          135.602294921875,
          589.8787841796875,
          587.7793579101562,
          584.2236938476562,
          576.51513671875,
          2263.302001953125,
          341.700927734375,
          356.8472595214844,
          588.4833984375,
          585.369140625,
          579.53662109375,
          3444.43603515625,
          631.0048828125,
          106.78956604003906,
          589.1210327148438,
          586.35205078125,
          581.633056640625,
          559.8818969726562,
          1045.08740234375,
          20.40509605407715,
          589.7021484375,
          587.2103881835938,
          583.2411499023438,
          572.96142578125,
          1646.8931884765625,
          183.73526000976562,
          588.262939453125,
          587.9733276367188,
          584.5458984375,
          577.4181518554688,
          2500.949951171875,
          396.067626953125,
          260.0162658691406,
          588.60205078125,
          585.53564453125,
          579.8711547851562,
          3621.953369140625,
          666.6957397460938,
          96.62100982666016,
          589.1605224609375,
          586.3926391601562,
          581.6800537109375,
          560.0867919921875,
          1038.969482421875
         ]
        },
        {
         "hovertemplate": "Index: %{x}<br>Value: %{y:.2f}<extra></extra>",
         "mode": "lines",
         "name": "dt = 0.0010000000474974513",
         "type": "scatter",
         "x": [
          0,
          1.0101010101010102,
          2.0202020202020203,
          3.0303030303030303,
          4.040404040404041,
          5.050505050505051,
          6.0606060606060606,
          7.070707070707071,
          8.080808080808081,
          9.090909090909092,
          10.101010101010102,
          11.111111111111112,
          12.121212121212121,
          13.131313131313131,
          14.141414141414142,
          15.151515151515152,
          16.161616161616163,
          17.171717171717173,
          18.181818181818183,
          19.191919191919194,
          20.202020202020204,
          21.212121212121215,
          22.222222222222225,
          23.232323232323235,
          24.242424242424242,
          25.252525252525253,
          26.262626262626263,
          27.272727272727273,
          28.282828282828284,
          29.292929292929294,
          30.303030303030305,
          31.313131313131315,
          32.323232323232325,
          33.333333333333336,
          34.343434343434346,
          35.35353535353536,
          36.36363636363637,
          37.37373737373738,
          38.38383838383839,
          39.3939393939394,
          40.40404040404041,
          41.41414141414142,
          42.42424242424243,
          43.43434343434344,
          44.44444444444445,
          45.45454545454546,
          46.46464646464647,
          47.47474747474748,
          48.484848484848484,
          49.494949494949495,
          50.505050505050505,
          51.515151515151516,
          52.525252525252526,
          53.535353535353536,
          54.54545454545455,
          55.55555555555556,
          56.56565656565657,
          57.57575757575758,
          58.58585858585859,
          59.5959595959596,
          60.60606060606061,
          61.61616161616162,
          62.62626262626263,
          63.63636363636364,
          64.64646464646465,
          65.65656565656566,
          66.66666666666667,
          67.67676767676768,
          68.68686868686869,
          69.6969696969697,
          70.70707070707071,
          71.71717171717172,
          72.72727272727273,
          73.73737373737374,
          74.74747474747475,
          75.75757575757576,
          76.76767676767678,
          77.77777777777779,
          78.7878787878788,
          79.7979797979798,
          80.80808080808082,
          81.81818181818183,
          82.82828282828284,
          83.83838383838385,
          84.84848484848486,
          85.85858585858587,
          86.86868686868688,
          87.87878787878789,
          88.8888888888889,
          89.89898989898991,
          90.90909090909092,
          91.91919191919193,
          92.92929292929294,
          93.93939393939395,
          94.94949494949496,
          95.95959595959597,
          96.96969696969697,
          97.97979797979798,
          98.98989898989899,
          100
         ],
         "y": [
          7.643111228942871,
          43.379615783691406,
          58.10087966918945,
          48.621551513671875,
          58.41929244995117,
          589.909912109375,
          587.5660400390625,
          583.8536376953125,
          575.2943725585938,
          1983.549072265625,
          269.8089294433594,
          534.9817504882812,
          588.2639770507812,
          585.0092163085938,
          578.6453857421875,
          2967.232421875,
          513.11962890625,
          156.6182403564453,
          588.8873901367188,
          585.9867553710938,
          580.8742065429688,
          523.72314453125,
          851.7898559570312,
          36.69437026977539,
          589.4571533203125,
          586.8442993164062,
          582.5595703125,
          569.2568359375,
          1331.175048828125,
          98.31653594970703,
          589.9444580078125,
          587.6038208007812,
          583.9148559570312,
          575.4879150390625,
          2017.8822021484375,
          277.77142333984375,
          521.1529541015625,
          588.2888793945312,
          585.0473022460938,
          578.7389526367188,
          3010.113525390625,
          523.5233154296875,
          151.3877410888672,
          588.9085693359375,
          586.021240234375,
          580.9444580078125,
          531.6783447265625,
          866.456298828125,
          32.32621383666992,
          589.4762573242188,
          586.8729858398438,
          582.61376953125,
          569.6047973632812,
          1351.954833984375,
          103.9242172241211,
          589.9512329101562,
          587.6312255859375,
          583.959716796875,
          575.6363525390625,
          2047.8223876953125,
          285.3721923828125,
          505.1975402832031,
          588.3120727539062,
          585.0847778320312,
          578.8319702148438,
          3053.294921875,
          533.9865112304688,
          146.40452575683594,
          588.929931640625,
          586.0525512695312,
          581.01123046875,
          537.47265625,
          881.11328125,
          27.982646942138672,
          589.4966430664062,
          586.9012451171875,
          582.667724609375,
          569.937744140625,
          1372.9835205078125,
          109.58991241455078,
          589.9520263671875,
          587.6555786132812,
          584.0040283203125,
          575.7817993164062,
          2078.04345703125,
          296.3768615722656,
          461.60003662109375,
          588.3832397460938,
          585.2320556640625,
          579.2594604492188,
          3306.1826171875,
          604.3803100585938,
          113.6376953125,
          589.1001586914062,
          586.33837890625,
          581.6402587890625,
          560.5440063476562,
          1062.9786376953125,
          28.4107723236084,
          589.7479858398438
         ]
        },
        {
         "hovertemplate": "Index: %{x}<br>Value: %{y:.2f}<extra></extra>",
         "mode": "lines",
         "name": "dt = 0.0005000000237487257",
         "type": "scatter",
         "x": [
          0,
          1.0101010101010102,
          2.0202020202020203,
          3.0303030303030303,
          4.040404040404041,
          5.050505050505051,
          6.0606060606060606,
          7.070707070707071,
          8.080808080808081,
          9.090909090909092,
          10.101010101010102,
          11.111111111111112,
          12.121212121212121,
          13.131313131313131,
          14.141414141414142,
          15.151515151515152,
          16.161616161616163,
          17.171717171717173,
          18.181818181818183,
          19.191919191919194,
          20.202020202020204,
          21.212121212121215,
          22.222222222222225,
          23.232323232323235,
          24.242424242424242,
          25.252525252525253,
          26.262626262626263,
          27.272727272727273,
          28.282828282828284,
          29.292929292929294,
          30.303030303030305,
          31.313131313131315,
          32.323232323232325,
          33.333333333333336,
          34.343434343434346,
          35.35353535353536,
          36.36363636363637,
          37.37373737373738,
          38.38383838383839,
          39.3939393939394,
          40.40404040404041,
          41.41414141414142,
          42.42424242424243,
          43.43434343434344,
          44.44444444444445,
          45.45454545454546,
          46.46464646464647,
          47.47474747474748,
          48.484848484848484,
          49.494949494949495,
          50.505050505050505,
          51.515151515151516,
          52.525252525252526,
          53.535353535353536,
          54.54545454545455,
          55.55555555555556,
          56.56565656565657,
          57.57575757575758,
          58.58585858585859,
          59.5959595959596,
          60.60606060606061,
          61.61616161616162,
          62.62626262626263,
          63.63636363636364,
          64.64646464646465,
          65.65656565656566,
          66.66666666666667,
          67.67676767676768,
          68.68686868686869,
          69.6969696969697,
          70.70707070707071,
          71.71717171717172,
          72.72727272727273,
          73.73737373737374,
          74.74747474747475,
          75.75757575757576,
          76.76767676767678,
          77.77777777777779,
          78.7878787878788,
          79.7979797979798,
          80.80808080808082,
          81.81818181818183,
          82.82828282828284,
          83.83838383838385,
          84.84848484848486,
          85.85858585858587,
          86.86868686868688,
          87.87878787878789,
          88.8888888888889,
          89.89898989898991,
          90.90909090909092,
          91.91919191919193,
          92.92929292929294,
          93.93939393939395,
          94.94949494949496,
          95.95959595959597,
          96.96969696969697,
          97.97979797979798,
          98.98989898989899,
          100
         ],
         "y": [
          20.764251708984375,
          54.38914489746094,
          88.19143676757812,
          105.5240478515625,
          589.200439453125,
          586.4646606445312,
          581.8388671875,
          562.6527709960938,
          1087.581787109375,
          31.564069747924805,
          589.7479858398438,
          587.267333984375,
          583.33056640625,
          573.2855224609375,
          1669.411376953125,
          188.31961059570312,
          587.552490234375,
          587.9872436523438,
          584.5560302734375,
          577.4491577148438,
          2507.3212890625,
          400.7229309082031,
          243.36729431152344,
          588.63525390625,
          585.5986938476562,
          580.0347290039062,
          3723.421875,
          694.9857177734375,
          85.07543182373047,
          589.2284545898438,
          586.5025024414062,
          581.9124755859375,
          563.5782470703125,
          1109.3875732421875,
          37.66727066040039,
          589.7696533203125,
          587.3017578125,
          583.3897094726562,
          573.532958984375,
          1700.44189453125,
          196.40623474121094,
          586.4658203125,
          588.0173950195312,
          584.632568359375,
          577.7470703125,
          2637.953857421875,
          440.74224853515625,
          195.59591674804688,
          588.7684326171875,
          585.832275390625,
          580.6080932617188,
          461.3039855957031,
          818.8026733398438,
          42.7521858215332,
          589.4483032226562,
          586.8546142578125,
          582.6259765625,
          569.9552001953125,
          1388.0921630859375,
          118.66665649414062,
          589.9214477539062,
          587.7442016601562,
          584.1883544921875,
          576.4786987304688,
          2259.51953125,
          345.8887023925781,
          324.9247741699219,
          588.5299682617188,
          585.462646484375,
          579.7935791015625,
          3609.23095703125,
          677.9735107421875,
          87.29446411132812,
          589.2349853515625,
          586.5361938476562,
          582.0281372070312,
          565.35693359375,
          1174.9129638671875,
          60.146175384521484,
          589.862548828125,
          587.4655151367188,
          583.7149047851562,
          574.9257202148438,
          1931.8199462890625,
          262.1675720214844,
          534.5040893554688,
          588.2838134765625,
          585.0704956054688,
          578.87353515625,
          3100.189453125,
          554.5764770507812,
          132.54994201660156,
          589.0128173828125,
          586.2041625976562,
          581.3726806640625,
          555.2146606445312,
          989.099365234375,
          7.532697677612305,
          589.6689453125,
          587.17529296875
         ]
        },
        {
         "hovertemplate": "Index: %{x}<br>Value: %{y:.2f}<extra></extra>",
         "mode": "lines",
         "name": "dt = 9.999999747378752e-05",
         "type": "scatter",
         "x": [
          0,
          1.0101010101010102,
          2.0202020202020203,
          3.0303030303030303,
          4.040404040404041,
          5.050505050505051,
          6.0606060606060606,
          7.070707070707071,
          8.080808080808081,
          9.090909090909092,
          10.101010101010102,
          11.111111111111112,
          12.121212121212121,
          13.131313131313131,
          14.141414141414142,
          15.151515151515152,
          16.161616161616163,
          17.171717171717173,
          18.181818181818183,
          19.191919191919194,
          20.202020202020204,
          21.212121212121215,
          22.222222222222225,
          23.232323232323235,
          24.242424242424242,
          25.252525252525253,
          26.262626262626263,
          27.272727272727273,
          28.282828282828284,
          29.292929292929294,
          30.303030303030305,
          31.313131313131315,
          32.323232323232325,
          33.333333333333336,
          34.343434343434346,
          35.35353535353536,
          36.36363636363637,
          37.37373737373738,
          38.38383838383839,
          39.3939393939394,
          40.40404040404041,
          41.41414141414142,
          42.42424242424243,
          43.43434343434344,
          44.44444444444445,
          45.45454545454546,
          46.46464646464647,
          47.47474747474748,
          48.484848484848484,
          49.494949494949495,
          50.505050505050505,
          51.515151515151516,
          52.525252525252526,
          53.535353535353536,
          54.54545454545455,
          55.55555555555556,
          56.56565656565657,
          57.57575757575758,
          58.58585858585859,
          59.5959595959596,
          60.60606060606061,
          61.61616161616162,
          62.62626262626263,
          63.63636363636364,
          64.64646464646465,
          65.65656565656566,
          66.66666666666667,
          67.67676767676768,
          68.68686868686869,
          69.6969696969697,
          70.70707070707071,
          71.71717171717172,
          72.72727272727273,
          73.73737373737374,
          74.74747474747475,
          75.75757575757576,
          76.76767676767678,
          77.77777777777779,
          78.7878787878788,
          79.7979797979798,
          80.80808080808082,
          81.81818181818183,
          82.82828282828284,
          83.83838383838385,
          84.84848484848486,
          85.85858585858587,
          86.86868686868688,
          87.87878787878789,
          88.8888888888889,
          89.89898989898991,
          90.90909090909092,
          91.91919191919193,
          92.92929292929294,
          93.93939393939395,
          94.94949494949496,
          95.95959595959597,
          96.96969696969697,
          97.97979797979798,
          98.98989898989899,
          100
         ],
         "y": [
          7.355600357055664,
          589.3470458984375,
          586.6784057617188,
          582.2525024414062,
          567.0709838867188,
          1222.6575927734375,
          70.3202896118164,
          589.8863525390625,
          587.4889526367188,
          583.7263793945312,
          574.8622436523438,
          1886.3614501953125,
          238.65518188476562,
          572.8270263671875,
          588.129638671875,
          584.7581176757812,
          577.9085083007812,
          2625.72021484375,
          422.39215087890625,
          224.64891052246094,
          588.6559448242188,
          585.5991821289062,
          579.9708251953125,
          3629.320556640625,
          662.6436767578125,
          98.92658996582031,
          589.1439208984375,
          586.3482055664062,
          581.5594482421875,
          557.0558471679688,
          980.2440795898438,
          2.50744891166687,
          589.5971069335938,
          587.0252075195312,
          582.8497314453125,
          570.7416381835938,
          1404.02490234375,
          113.52647399902344,
          589.9444580078125,
          587.6390380859375,
          583.9383544921875,
          575.4384155273438,
          1973.756103515625,
          260.8023376464844,
          552.039794921875,
          588.2024536132812,
          584.8780517578125,
          578.225341796875,
          2744.188232421875,
          451.2027893066406,
          198.27310180664062,
          588.7240600585938,
          585.7050170898438,
          580.2081298828125,
          3790.434326171875,
          700.5530395507812,
          86.34530639648438,
          589.20703125,
          586.444091796875,
          581.7472534179688,
          560.591064453125,
          1030.626220703125,
          11.743962287902832,
          589.6570434570312,
          587.1119384765625,
          583.0076293945312,
          571.58740234375,
          1471.54443359375,
          131.39010620117188,
          589.8955688476562,
          587.71826171875,
          584.07275390625,
          575.8873291015625,
          2064.84033203125,
          283.74072265625,
          513.5206909179688,
          588.2754516601562,
          584.9956665039062,
          578.5297241210938,
          2867.607177734375,
          481.0642395019531,
          177.2174072265625,
          588.791259765625,
          585.8104858398438,
          580.4379272460938,
          462.4398498535156,
          908.839111328125,
          12.907360076904297,
          589.8070678710938,
          587.5455322265625,
          584.1248168945312,
          577.0687866210938,
          2641.881103515625,
          502.8606262207031,
          126.27310943603516,
          589.1724243164062,
          586.6338500976562,
          582.5551147460938,
          571.3988037109375,
          1640.0433349609375
         ]
        }
       ],
       "layout": {
        "hovermode": "x unified",
        "showlegend": true,
        "template": {
         "data": {
          "bar": [
           {
            "error_x": {
             "color": "#2a3f5f"
            },
            "error_y": {
             "color": "#2a3f5f"
            },
            "marker": {
             "line": {
              "color": "white",
              "width": 0.5
             },
             "pattern": {
              "fillmode": "overlay",
              "size": 10,
              "solidity": 0.2
             }
            },
            "type": "bar"
           }
          ],
          "barpolar": [
           {
            "marker": {
             "line": {
              "color": "white",
              "width": 0.5
             },
             "pattern": {
              "fillmode": "overlay",
              "size": 10,
              "solidity": 0.2
             }
            },
            "type": "barpolar"
           }
          ],
          "carpet": [
           {
            "aaxis": {
             "endlinecolor": "#2a3f5f",
             "gridcolor": "#C8D4E3",
             "linecolor": "#C8D4E3",
             "minorgridcolor": "#C8D4E3",
             "startlinecolor": "#2a3f5f"
            },
            "baxis": {
             "endlinecolor": "#2a3f5f",
             "gridcolor": "#C8D4E3",
             "linecolor": "#C8D4E3",
             "minorgridcolor": "#C8D4E3",
             "startlinecolor": "#2a3f5f"
            },
            "type": "carpet"
           }
          ],
          "choropleth": [
           {
            "colorbar": {
             "outlinewidth": 0,
             "ticks": ""
            },
            "type": "choropleth"
           }
          ],
          "contour": [
           {
            "colorbar": {
             "outlinewidth": 0,
             "ticks": ""
            },
            "colorscale": [
             [
              0,
              "#0d0887"
             ],
             [
              0.1111111111111111,
              "#46039f"
             ],
             [
              0.2222222222222222,
              "#7201a8"
             ],
             [
              0.3333333333333333,
              "#9c179e"
             ],
             [
              0.4444444444444444,
              "#bd3786"
             ],
             [
              0.5555555555555556,
              "#d8576b"
             ],
             [
              0.6666666666666666,
              "#ed7953"
             ],
             [
              0.7777777777777778,
              "#fb9f3a"
             ],
             [
              0.8888888888888888,
              "#fdca26"
             ],
             [
              1,
              "#f0f921"
             ]
            ],
            "type": "contour"
           }
          ],
          "contourcarpet": [
           {
            "colorbar": {
             "outlinewidth": 0,
             "ticks": ""
            },
            "type": "contourcarpet"
           }
          ],
          "heatmap": [
           {
            "colorbar": {
             "outlinewidth": 0,
             "ticks": ""
            },
            "colorscale": [
             [
              0,
              "#0d0887"
             ],
             [
              0.1111111111111111,
              "#46039f"
             ],
             [
              0.2222222222222222,
              "#7201a8"
             ],
             [
              0.3333333333333333,
              "#9c179e"
             ],
             [
              0.4444444444444444,
              "#bd3786"
             ],
             [
              0.5555555555555556,
              "#d8576b"
             ],
             [
              0.6666666666666666,
              "#ed7953"
             ],
             [
              0.7777777777777778,
              "#fb9f3a"
             ],
             [
              0.8888888888888888,
              "#fdca26"
             ],
             [
              1,
              "#f0f921"
             ]
            ],
            "type": "heatmap"
           }
          ],
          "heatmapgl": [
           {
            "colorbar": {
             "outlinewidth": 0,
             "ticks": ""
            },
            "colorscale": [
             [
              0,
              "#0d0887"
             ],
             [
              0.1111111111111111,
              "#46039f"
             ],
             [
              0.2222222222222222,
              "#7201a8"
             ],
             [
              0.3333333333333333,
              "#9c179e"
             ],
             [
              0.4444444444444444,
              "#bd3786"
             ],
             [
              0.5555555555555556,
              "#d8576b"
             ],
             [
              0.6666666666666666,
              "#ed7953"
             ],
             [
              0.7777777777777778,
              "#fb9f3a"
             ],
             [
              0.8888888888888888,
              "#fdca26"
             ],
             [
              1,
              "#f0f921"
             ]
            ],
            "type": "heatmapgl"
           }
          ],
          "histogram": [
           {
            "marker": {
             "pattern": {
              "fillmode": "overlay",
              "size": 10,
              "solidity": 0.2
             }
            },
            "type": "histogram"
           }
          ],
          "histogram2d": [
           {
            "colorbar": {
             "outlinewidth": 0,
             "ticks": ""
            },
            "colorscale": [
             [
              0,
              "#0d0887"
             ],
             [
              0.1111111111111111,
              "#46039f"
             ],
             [
              0.2222222222222222,
              "#7201a8"
             ],
             [
              0.3333333333333333,
              "#9c179e"
             ],
             [
              0.4444444444444444,
              "#bd3786"
             ],
             [
              0.5555555555555556,
              "#d8576b"
             ],
             [
              0.6666666666666666,
              "#ed7953"
             ],
             [
              0.7777777777777778,
              "#fb9f3a"
             ],
             [
              0.8888888888888888,
              "#fdca26"
             ],
             [
              1,
              "#f0f921"
             ]
            ],
            "type": "histogram2d"
           }
          ],
          "histogram2dcontour": [
           {
            "colorbar": {
             "outlinewidth": 0,
             "ticks": ""
            },
            "colorscale": [
             [
              0,
              "#0d0887"
             ],
             [
              0.1111111111111111,
              "#46039f"
             ],
             [
              0.2222222222222222,
              "#7201a8"
             ],
             [
              0.3333333333333333,
              "#9c179e"
             ],
             [
              0.4444444444444444,
              "#bd3786"
             ],
             [
              0.5555555555555556,
              "#d8576b"
             ],
             [
              0.6666666666666666,
              "#ed7953"
             ],
             [
              0.7777777777777778,
              "#fb9f3a"
             ],
             [
              0.8888888888888888,
              "#fdca26"
             ],
             [
              1,
              "#f0f921"
             ]
            ],
            "type": "histogram2dcontour"
           }
          ],
          "mesh3d": [
           {
            "colorbar": {
             "outlinewidth": 0,
             "ticks": ""
            },
            "type": "mesh3d"
           }
          ],
          "parcoords": [
           {
            "line": {
             "colorbar": {
              "outlinewidth": 0,
              "ticks": ""
             }
            },
            "type": "parcoords"
           }
          ],
          "pie": [
           {
            "automargin": true,
            "type": "pie"
           }
          ],
          "scatter": [
           {
            "fillpattern": {
             "fillmode": "overlay",
             "size": 10,
             "solidity": 0.2
            },
            "type": "scatter"
           }
          ],
          "scatter3d": [
           {
            "line": {
             "colorbar": {
              "outlinewidth": 0,
              "ticks": ""
             }
            },
            "marker": {
             "colorbar": {
              "outlinewidth": 0,
              "ticks": ""
             }
            },
            "type": "scatter3d"
           }
          ],
          "scattercarpet": [
           {
            "marker": {
             "colorbar": {
              "outlinewidth": 0,
              "ticks": ""
             }
            },
            "type": "scattercarpet"
           }
          ],
          "scattergeo": [
           {
            "marker": {
             "colorbar": {
              "outlinewidth": 0,
              "ticks": ""
             }
            },
            "type": "scattergeo"
           }
          ],
          "scattergl": [
           {
            "marker": {
             "colorbar": {
              "outlinewidth": 0,
              "ticks": ""
             }
            },
            "type": "scattergl"
           }
          ],
          "scattermapbox": [
           {
            "marker": {
             "colorbar": {
              "outlinewidth": 0,
              "ticks": ""
             }
            },
            "type": "scattermapbox"
           }
          ],
          "scatterpolar": [
           {
            "marker": {
             "colorbar": {
              "outlinewidth": 0,
              "ticks": ""
             }
            },
            "type": "scatterpolar"
           }
          ],
          "scatterpolargl": [
           {
            "marker": {
             "colorbar": {
              "outlinewidth": 0,
              "ticks": ""
             }
            },
            "type": "scatterpolargl"
           }
          ],
          "scatterternary": [
           {
            "marker": {
             "colorbar": {
              "outlinewidth": 0,
              "ticks": ""
             }
            },
            "type": "scatterternary"
           }
          ],
          "surface": [
           {
            "colorbar": {
             "outlinewidth": 0,
             "ticks": ""
            },
            "colorscale": [
             [
              0,
              "#0d0887"
             ],
             [
              0.1111111111111111,
              "#46039f"
             ],
             [
              0.2222222222222222,
              "#7201a8"
             ],
             [
              0.3333333333333333,
              "#9c179e"
             ],
             [
              0.4444444444444444,
              "#bd3786"
             ],
             [
              0.5555555555555556,
              "#d8576b"
             ],
             [
              0.6666666666666666,
              "#ed7953"
             ],
             [
              0.7777777777777778,
              "#fb9f3a"
             ],
             [
              0.8888888888888888,
              "#fdca26"
             ],
             [
              1,
              "#f0f921"
             ]
            ],
            "type": "surface"
           }
          ],
          "table": [
           {
            "cells": {
             "fill": {
              "color": "#EBF0F8"
             },
             "line": {
              "color": "white"
             }
            },
            "header": {
             "fill": {
              "color": "#C8D4E3"
             },
             "line": {
              "color": "white"
             }
            },
            "type": "table"
           }
          ]
         },
         "layout": {
          "annotationdefaults": {
           "arrowcolor": "#2a3f5f",
           "arrowhead": 0,
           "arrowwidth": 1
          },
          "autotypenumbers": "strict",
          "coloraxis": {
           "colorbar": {
            "outlinewidth": 0,
            "ticks": ""
           }
          },
          "colorscale": {
           "diverging": [
            [
             0,
             "#8e0152"
            ],
            [
             0.1,
             "#c51b7d"
            ],
            [
             0.2,
             "#de77ae"
            ],
            [
             0.3,
             "#f1b6da"
            ],
            [
             0.4,
             "#fde0ef"
            ],
            [
             0.5,
             "#f7f7f7"
            ],
            [
             0.6,
             "#e6f5d0"
            ],
            [
             0.7,
             "#b8e186"
            ],
            [
             0.8,
             "#7fbc41"
            ],
            [
             0.9,
             "#4d9221"
            ],
            [
             1,
             "#276419"
            ]
           ],
           "sequential": [
            [
             0,
             "#0d0887"
            ],
            [
             0.1111111111111111,
             "#46039f"
            ],
            [
             0.2222222222222222,
             "#7201a8"
            ],
            [
             0.3333333333333333,
             "#9c179e"
            ],
            [
             0.4444444444444444,
             "#bd3786"
            ],
            [
             0.5555555555555556,
             "#d8576b"
            ],
            [
             0.6666666666666666,
             "#ed7953"
            ],
            [
             0.7777777777777778,
             "#fb9f3a"
            ],
            [
             0.8888888888888888,
             "#fdca26"
            ],
            [
             1,
             "#f0f921"
            ]
           ],
           "sequentialminus": [
            [
             0,
             "#0d0887"
            ],
            [
             0.1111111111111111,
             "#46039f"
            ],
            [
             0.2222222222222222,
             "#7201a8"
            ],
            [
             0.3333333333333333,
             "#9c179e"
            ],
            [
             0.4444444444444444,
             "#bd3786"
            ],
            [
             0.5555555555555556,
             "#d8576b"
            ],
            [
             0.6666666666666666,
             "#ed7953"
            ],
            [
             0.7777777777777778,
             "#fb9f3a"
            ],
            [
             0.8888888888888888,
             "#fdca26"
            ],
            [
             1,
             "#f0f921"
            ]
           ]
          },
          "colorway": [
           "#636efa",
           "#EF553B",
           "#00cc96",
           "#ab63fa",
           "#FFA15A",
           "#19d3f3",
           "#FF6692",
           "#B6E880",
           "#FF97FF",
           "#FECB52"
          ],
          "font": {
           "color": "#2a3f5f"
          },
          "geo": {
           "bgcolor": "white",
           "lakecolor": "white",
           "landcolor": "white",
           "showlakes": true,
           "showland": true,
           "subunitcolor": "#C8D4E3"
          },
          "hoverlabel": {
           "align": "left"
          },
          "hovermode": "closest",
          "mapbox": {
           "style": "light"
          },
          "paper_bgcolor": "white",
          "plot_bgcolor": "white",
          "polar": {
           "angularaxis": {
            "gridcolor": "#EBF0F8",
            "linecolor": "#EBF0F8",
            "ticks": ""
           },
           "bgcolor": "white",
           "radialaxis": {
            "gridcolor": "#EBF0F8",
            "linecolor": "#EBF0F8",
            "ticks": ""
           }
          },
          "scene": {
           "xaxis": {
            "backgroundcolor": "white",
            "gridcolor": "#DFE8F3",
            "gridwidth": 2,
            "linecolor": "#EBF0F8",
            "showbackground": true,
            "ticks": "",
            "zerolinecolor": "#EBF0F8"
           },
           "yaxis": {
            "backgroundcolor": "white",
            "gridcolor": "#DFE8F3",
            "gridwidth": 2,
            "linecolor": "#EBF0F8",
            "showbackground": true,
            "ticks": "",
            "zerolinecolor": "#EBF0F8"
           },
           "zaxis": {
            "backgroundcolor": "white",
            "gridcolor": "#DFE8F3",
            "gridwidth": 2,
            "linecolor": "#EBF0F8",
            "showbackground": true,
            "ticks": "",
            "zerolinecolor": "#EBF0F8"
           }
          },
          "shapedefaults": {
           "line": {
            "color": "#2a3f5f"
           }
          },
          "ternary": {
           "aaxis": {
            "gridcolor": "#DFE8F3",
            "linecolor": "#A2B1C6",
            "ticks": ""
           },
           "baxis": {
            "gridcolor": "#DFE8F3",
            "linecolor": "#A2B1C6",
            "ticks": ""
           },
           "bgcolor": "white",
           "caxis": {
            "gridcolor": "#DFE8F3",
            "linecolor": "#A2B1C6",
            "ticks": ""
           }
          },
          "title": {
           "x": 0.05
          },
          "xaxis": {
           "automargin": true,
           "gridcolor": "#EBF0F8",
           "linecolor": "#EBF0F8",
           "ticks": "",
           "title": {
            "standoff": 15
           },
           "zerolinecolor": "#EBF0F8",
           "zerolinewidth": 2
          },
          "yaxis": {
           "automargin": true,
           "gridcolor": "#EBF0F8",
           "linecolor": "#EBF0F8",
           "ticks": "",
           "title": {
            "standoff": 15
           },
           "zerolinecolor": "#EBF0F8",
           "zerolinewidth": 2
          }
         }
        },
        "title": {
         "text": "Deviation Metrics for All Rows"
        },
        "xaxis": {
         "rangeslider": {
          "visible": true
         },
         "title": {
          "text": "Time Step/Index"
         },
         "type": "linear"
        },
        "yaxis": {
         "title": {
          "text": "Deviation Value"
         }
        }
       }
      },
      "text/html": [
       "<div>                            <div id=\"2bb563d7-aea0-458a-bca6-f8083c297020\" class=\"plotly-graph-div\" style=\"height:525px; width:100%;\"></div>            <script type=\"text/javascript\">                require([\"plotly\"], function(Plotly) {                    window.PLOTLYENV=window.PLOTLYENV || {};                                    if (document.getElementById(\"2bb563d7-aea0-458a-bca6-f8083c297020\")) {                    Plotly.newPlot(                        \"2bb563d7-aea0-458a-bca6-f8083c297020\",                        [{\"hovertemplate\":\"Index: %{x}\\u003cbr\\u003eValue: %{y:.2f}\\u003cextra\\u003e\\u003c\\u002fextra\\u003e\",\"mode\":\"lines\",\"name\":\"dt = 0.0024999999441206455\",\"x\":[0.0,1.0101010101010102,2.0202020202020203,3.0303030303030303,4.040404040404041,5.050505050505051,6.0606060606060606,7.070707070707071,8.080808080808081,9.090909090909092,10.101010101010102,11.111111111111112,12.121212121212121,13.131313131313131,14.141414141414142,15.151515151515152,16.161616161616163,17.171717171717173,18.181818181818183,19.191919191919194,20.202020202020204,21.212121212121215,22.222222222222225,23.232323232323235,24.242424242424242,25.252525252525253,26.262626262626263,27.272727272727273,28.282828282828284,29.292929292929294,30.303030303030305,31.313131313131315,32.323232323232325,33.333333333333336,34.343434343434346,35.35353535353536,36.36363636363637,37.37373737373738,38.38383838383839,39.3939393939394,40.40404040404041,41.41414141414142,42.42424242424243,43.43434343434344,44.44444444444445,45.45454545454546,46.46464646464647,47.47474747474748,48.484848484848484,49.494949494949495,50.505050505050505,51.515151515151516,52.525252525252526,53.535353535353536,54.54545454545455,55.55555555555556,56.56565656565657,57.57575757575758,58.58585858585859,59.5959595959596,60.60606060606061,61.61616161616162,62.62626262626263,63.63636363636364,64.64646464646465,65.65656565656566,66.66666666666667,67.67676767676768,68.68686868686869,69.6969696969697,70.70707070707071,71.71717171717172,72.72727272727273,73.73737373737374,74.74747474747475,75.75757575757576,76.76767676767678,77.77777777777779,78.7878787878788,79.7979797979798,80.80808080808082,81.81818181818183,82.82828282828284,83.83838383838385,84.84848484848486,85.85858585858587,86.86868686868688,87.87878787878789,88.8888888888889,89.89898989898991,90.90909090909092,91.91919191919193,92.92929292929294,93.93939393939395,94.94949494949496,95.95959595959597,96.96969696969697,97.97979797979798,98.98989898989899,100.0],\"y\":[8.236634254455566,22.049678802490234,21.001300811767578,0.4694373309612274,33.42317199707031,67.74293518066406,80.60791015625,589.3096313476562,586.6263427734375,582.1513061523438,566.1316528320312,1234.1142578125,71.5998306274414,589.8765258789062,587.4639892578125,583.6793823242188,574.6744995117188,1935.3541259765625,256.55352783203125,561.3750610351562,588.2095336914062,584.924560546875,578.4320678710938,3006.02587890625,514.3238525390625,159.3134307861328,588.8758544921875,585.9703369140625,580.8382568359375,520.23388671875,877.5497436523438,29.949970245361328,589.47998046875,586.875244140625,582.6184692382812,569.6444702148438,1398.796142578125,115.78233337402344,589.96484375,587.6691284179688,584.0259399414062,575.85791015625,2154.52001953125,312.5389709472656,449.71270751953125,588.3870849609375,585.2114868164062,579.1541748046875,3052.173095703125,601.0489501953125,119.61673736572266,589.0535278320312,586.2463989257812,581.4153442382812,555.3900146484375,1012.9337768554688,10.188522338867188,589.653076171875,587.1351928710938,583.1017456054688,572.3074951171875,1628.139404296875,177.5964813232422,589.0070190429688,587.9338989257812,584.477783203125,577.246826171875,2545.78662109375,410.560302734375,241.4495849609375,588.6490478515625,585.624755859375,580.1057739257812,3867.597412109375,739.9258422851562,71.4757308959961,589.2872314453125,586.5983276367188,582.10595703125,565.7684326171875,1220.418212890625,68.2804946899414,589.8674926757812,587.4519653320312,583.6609497070312,574.6246337890625,1917.7020263671875,252.6412811279297,564.5492553710938,588.2008056640625,584.9147338867188,578.4185180664062,2985.9111328125,514.6126708984375,158.2496795654297,588.884765625,585.9871215820312,580.8872680664062,527.952880859375,884.3912353515625],\"type\":\"scatter\"},{\"hovertemplate\":\"Index: %{x}\\u003cbr\\u003eValue: %{y:.2f}\\u003cextra\\u003e\\u003c\\u002fextra\\u003e\",\"mode\":\"lines\",\"name\":\"dt = 0.0020000000949949026\",\"x\":[0.0,1.0101010101010102,2.0202020202020203,3.0303030303030303,4.040404040404041,5.050505050505051,6.0606060606060606,7.070707070707071,8.080808080808081,9.090909090909092,10.101010101010102,11.111111111111112,12.121212121212121,13.131313131313131,14.141414141414142,15.151515151515152,16.161616161616163,17.171717171717173,18.181818181818183,19.191919191919194,20.202020202020204,21.212121212121215,22.222222222222225,23.232323232323235,24.242424242424242,25.252525252525253,26.262626262626263,27.272727272727273,28.282828282828284,29.292929292929294,30.303030303030305,31.313131313131315,32.323232323232325,33.333333333333336,34.343434343434346,35.35353535353536,36.36363636363637,37.37373737373738,38.38383838383839,39.3939393939394,40.40404040404041,41.41414141414142,42.42424242424243,43.43434343434344,44.44444444444445,45.45454545454546,46.46464646464647,47.47474747474748,48.484848484848484,49.494949494949495,50.505050505050505,51.515151515151516,52.525252525252526,53.535353535353536,54.54545454545455,55.55555555555556,56.56565656565657,57.57575757575758,58.58585858585859,59.5959595959596,60.60606060606061,61.61616161616162,62.62626262626263,63.63636363636364,64.64646464646465,65.65656565656566,66.66666666666667,67.67676767676768,68.68686868686869,69.6969696969697,70.70707070707071,71.71717171717172,72.72727272727273,73.73737373737374,74.74747474747475,75.75757575757576,76.76767676767678,77.77777777777779,78.7878787878788,79.7979797979798,80.80808080808082,81.81818181818183,82.82828282828284,83.83838383838385,84.84848484848486,85.85858585858587,86.86868686868688,87.87878787878789,88.8888888888889,89.89898989898991,90.90909090909092,91.91919191919193,92.92929292929294,93.93939393939395,94.94949494949496,95.95959595959597,96.96969696969697,97.97979797979798,98.98989898989899,100.0],\"y\":[6.535724639892578,16.08930206298828,17.58144760131836,2.191909074783325,44.38785934448242,72.61427307128906,80.08393859863281,173.2467041015625,588.7050170898438,587.945068359375,584.4894409179688,577.268798828125,2487.287841796875,395.8124694824219,258.923095703125,588.614013671875,585.566650390625,579.9734497070312,3634.985107421875,697.9111328125,84.9937744140625,589.2235717773438,586.495849609375,581.9000244140625,563.4520874023438,1121.479736328125,40.275550842285156,589.7696533203125,587.3016967773438,583.3895874023438,573.5330200195312,1723.9161376953125,201.75160217285156,586.6876831054688,588.0222778320312,584.6141357421875,577.6105346679688,2594.8974609375,421.4524230957031,227.6403350830078,588.6722412109375,585.655517578125,580.1607666015625,4261.03662109375,727.033935546875,75.91641235351562,589.265625,586.558837890625,582.0225830078125,564.8255615234375,1159.191650390625,50.76372146606445,589.8088989257812,587.3579711914062,583.4885864257812,573.9348754882812,1778.433837890625,215.8788299560547,583.8447265625,588.0734252929688,584.697265625,577.8370971679688,2674.497314453125,441.026123046875,208.17108154296875,588.7191162109375,585.7265625,580.3192749023438,4159.048828125,754.0177612304688,67.31668853759766,589.3076171875,586.6205444335938,582.1414184570312,566.0054931640625,1197.609130859375,61.37921142578125,589.8458251953125,587.4136352539062,583.5855102539062,574.3094482421875,1833.853271484375,230.17523193359375,578.8740234375,588.123046875,584.7806396484375,578.053955078125,2755.12841796875,460.78497314453125,191.81890869140625,588.7637329101562,585.7969970703125,580.4713134765625,311.2345275878906,782.092041015625,58.53581619262695,589.3496704101562,586.6834106445312,582.2613525390625,567.2393188476562],\"type\":\"scatter\"},{\"hovertemplate\":\"Index: %{x}\\u003cbr\\u003eValue: %{y:.2f}\\u003cextra\\u003e\\u003c\\u002fextra\\u003e\",\"mode\":\"lines\",\"name\":\"dt = 0.001500000013038516\",\"x\":[0.0,1.0101010101010102,2.0202020202020203,3.0303030303030303,4.040404040404041,5.050505050505051,6.0606060606060606,7.070707070707071,8.080808080808081,9.090909090909092,10.101010101010102,11.111111111111112,12.121212121212121,13.131313131313131,14.141414141414142,15.151515151515152,16.161616161616163,17.171717171717173,18.181818181818183,19.191919191919194,20.202020202020204,21.212121212121215,22.222222222222225,23.232323232323235,24.242424242424242,25.252525252525253,26.262626262626263,27.272727272727273,28.282828282828284,29.292929292929294,30.303030303030305,31.313131313131315,32.323232323232325,33.333333333333336,34.343434343434346,35.35353535353536,36.36363636363637,37.37373737373738,38.38383838383839,39.3939393939394,40.40404040404041,41.41414141414142,42.42424242424243,43.43434343434344,44.44444444444445,45.45454545454546,46.46464646464647,47.47474747474748,48.484848484848484,49.494949494949495,50.505050505050505,51.515151515151516,52.525252525252526,53.535353535353536,54.54545454545455,55.55555555555556,56.56565656565657,57.57575757575758,58.58585858585859,59.5959595959596,60.60606060606061,61.61616161616162,62.62626262626263,63.63636363636364,64.64646464646465,65.65656565656566,66.66666666666667,67.67676767676768,68.68686868686869,69.6969696969697,70.70707070707071,71.71717171717172,72.72727272727273,73.73737373737374,74.74747474747475,75.75757575757576,76.76767676767678,77.77777777777779,78.7878787878788,79.7979797979798,80.80808080808082,81.81818181818183,82.82828282828284,83.83838383838385,84.84848484848486,85.85858585858587,86.86868686868688,87.87878787878789,88.8888888888889,89.89898989898991,90.90909090909092,91.91919191919193,92.92929292929294,93.93939393939395,94.94949494949496,95.95959595959597,96.96969696969697,97.97979797979798,98.98989898989899,100.0],\"y\":[14.210115432739258,16.12042999267578,0.633274257183075,37.304473876953125,61.34965515136719,57.96407699584961,70.13920593261719,589.9190063476562,587.6223754882812,583.9483032226562,575.6124877929688,2049.614990234375,285.5608215332031,509.56951904296875,588.3075561523438,585.0777587890625,578.8165893554688,3054.0927734375,533.8489379882812,147.40164184570312,588.9249877929688,586.04541015625,580.9963989257812,536.5302734375,880.2973022460938,28.527462005615234,589.4915771484375,586.8936767578125,582.653076171875,569.844970703125,1370.8128662109375,108.7588119506836,589.956298828125,587.6466064453125,583.988525390625,575.7338256835938,2073.470947265625,291.6075744628906,495.8703918457031,588.326416015625,585.1078491210938,578.8884887695312,3088.59716796875,544.4535522460938,141.16763305664062,588.9579467773438,586.105712890625,581.1369018554688,546.1563720703125,920.4525146484375,15.480203628540039,589.5546264648438,586.9931030273438,582.8514404296875,571.0733642578125,1464.92724609375,135.602294921875,589.8787841796875,587.7793579101562,584.2236938476562,576.51513671875,2263.302001953125,341.700927734375,356.8472595214844,588.4833984375,585.369140625,579.53662109375,3444.43603515625,631.0048828125,106.78956604003906,589.1210327148438,586.35205078125,581.633056640625,559.8818969726562,1045.08740234375,20.40509605407715,589.7021484375,587.2103881835938,583.2411499023438,572.96142578125,1646.8931884765625,183.73526000976562,588.262939453125,587.9733276367188,584.5458984375,577.4181518554688,2500.949951171875,396.067626953125,260.0162658691406,588.60205078125,585.53564453125,579.8711547851562,3621.953369140625,666.6957397460938,96.62100982666016,589.1605224609375,586.3926391601562,581.6800537109375,560.0867919921875,1038.969482421875],\"type\":\"scatter\"},{\"hovertemplate\":\"Index: %{x}\\u003cbr\\u003eValue: %{y:.2f}\\u003cextra\\u003e\\u003c\\u002fextra\\u003e\",\"mode\":\"lines\",\"name\":\"dt = 0.0010000000474974513\",\"x\":[0.0,1.0101010101010102,2.0202020202020203,3.0303030303030303,4.040404040404041,5.050505050505051,6.0606060606060606,7.070707070707071,8.080808080808081,9.090909090909092,10.101010101010102,11.111111111111112,12.121212121212121,13.131313131313131,14.141414141414142,15.151515151515152,16.161616161616163,17.171717171717173,18.181818181818183,19.191919191919194,20.202020202020204,21.212121212121215,22.222222222222225,23.232323232323235,24.242424242424242,25.252525252525253,26.262626262626263,27.272727272727273,28.282828282828284,29.292929292929294,30.303030303030305,31.313131313131315,32.323232323232325,33.333333333333336,34.343434343434346,35.35353535353536,36.36363636363637,37.37373737373738,38.38383838383839,39.3939393939394,40.40404040404041,41.41414141414142,42.42424242424243,43.43434343434344,44.44444444444445,45.45454545454546,46.46464646464647,47.47474747474748,48.484848484848484,49.494949494949495,50.505050505050505,51.515151515151516,52.525252525252526,53.535353535353536,54.54545454545455,55.55555555555556,56.56565656565657,57.57575757575758,58.58585858585859,59.5959595959596,60.60606060606061,61.61616161616162,62.62626262626263,63.63636363636364,64.64646464646465,65.65656565656566,66.66666666666667,67.67676767676768,68.68686868686869,69.6969696969697,70.70707070707071,71.71717171717172,72.72727272727273,73.73737373737374,74.74747474747475,75.75757575757576,76.76767676767678,77.77777777777779,78.7878787878788,79.7979797979798,80.80808080808082,81.81818181818183,82.82828282828284,83.83838383838385,84.84848484848486,85.85858585858587,86.86868686868688,87.87878787878789,88.8888888888889,89.89898989898991,90.90909090909092,91.91919191919193,92.92929292929294,93.93939393939395,94.94949494949496,95.95959595959597,96.96969696969697,97.97979797979798,98.98989898989899,100.0],\"y\":[7.643111228942871,43.379615783691406,58.10087966918945,48.621551513671875,58.41929244995117,589.909912109375,587.5660400390625,583.8536376953125,575.2943725585938,1983.549072265625,269.8089294433594,534.9817504882812,588.2639770507812,585.0092163085938,578.6453857421875,2967.232421875,513.11962890625,156.6182403564453,588.8873901367188,585.9867553710938,580.8742065429688,523.72314453125,851.7898559570312,36.69437026977539,589.4571533203125,586.8442993164062,582.5595703125,569.2568359375,1331.175048828125,98.31653594970703,589.9444580078125,587.6038208007812,583.9148559570312,575.4879150390625,2017.8822021484375,277.77142333984375,521.1529541015625,588.2888793945312,585.0473022460938,578.7389526367188,3010.113525390625,523.5233154296875,151.3877410888672,588.9085693359375,586.021240234375,580.9444580078125,531.6783447265625,866.456298828125,32.32621383666992,589.4762573242188,586.8729858398438,582.61376953125,569.6047973632812,1351.954833984375,103.9242172241211,589.9512329101562,587.6312255859375,583.959716796875,575.6363525390625,2047.8223876953125,285.3721923828125,505.1975402832031,588.3120727539062,585.0847778320312,578.8319702148438,3053.294921875,533.9865112304688,146.40452575683594,588.929931640625,586.0525512695312,581.01123046875,537.47265625,881.11328125,27.982646942138672,589.4966430664062,586.9012451171875,582.667724609375,569.937744140625,1372.9835205078125,109.58991241455078,589.9520263671875,587.6555786132812,584.0040283203125,575.7817993164062,2078.04345703125,296.3768615722656,461.60003662109375,588.3832397460938,585.2320556640625,579.2594604492188,3306.1826171875,604.3803100585938,113.6376953125,589.1001586914062,586.33837890625,581.6402587890625,560.5440063476562,1062.9786376953125,28.4107723236084,589.7479858398438],\"type\":\"scatter\"},{\"hovertemplate\":\"Index: %{x}\\u003cbr\\u003eValue: %{y:.2f}\\u003cextra\\u003e\\u003c\\u002fextra\\u003e\",\"mode\":\"lines\",\"name\":\"dt = 0.0005000000237487257\",\"x\":[0.0,1.0101010101010102,2.0202020202020203,3.0303030303030303,4.040404040404041,5.050505050505051,6.0606060606060606,7.070707070707071,8.080808080808081,9.090909090909092,10.101010101010102,11.111111111111112,12.121212121212121,13.131313131313131,14.141414141414142,15.151515151515152,16.161616161616163,17.171717171717173,18.181818181818183,19.191919191919194,20.202020202020204,21.212121212121215,22.222222222222225,23.232323232323235,24.242424242424242,25.252525252525253,26.262626262626263,27.272727272727273,28.282828282828284,29.292929292929294,30.303030303030305,31.313131313131315,32.323232323232325,33.333333333333336,34.343434343434346,35.35353535353536,36.36363636363637,37.37373737373738,38.38383838383839,39.3939393939394,40.40404040404041,41.41414141414142,42.42424242424243,43.43434343434344,44.44444444444445,45.45454545454546,46.46464646464647,47.47474747474748,48.484848484848484,49.494949494949495,50.505050505050505,51.515151515151516,52.525252525252526,53.535353535353536,54.54545454545455,55.55555555555556,56.56565656565657,57.57575757575758,58.58585858585859,59.5959595959596,60.60606060606061,61.61616161616162,62.62626262626263,63.63636363636364,64.64646464646465,65.65656565656566,66.66666666666667,67.67676767676768,68.68686868686869,69.6969696969697,70.70707070707071,71.71717171717172,72.72727272727273,73.73737373737374,74.74747474747475,75.75757575757576,76.76767676767678,77.77777777777779,78.7878787878788,79.7979797979798,80.80808080808082,81.81818181818183,82.82828282828284,83.83838383838385,84.84848484848486,85.85858585858587,86.86868686868688,87.87878787878789,88.8888888888889,89.89898989898991,90.90909090909092,91.91919191919193,92.92929292929294,93.93939393939395,94.94949494949496,95.95959595959597,96.96969696969697,97.97979797979798,98.98989898989899,100.0],\"y\":[20.764251708984375,54.38914489746094,88.19143676757812,105.5240478515625,589.200439453125,586.4646606445312,581.8388671875,562.6527709960938,1087.581787109375,31.564069747924805,589.7479858398438,587.267333984375,583.33056640625,573.2855224609375,1669.411376953125,188.31961059570312,587.552490234375,587.9872436523438,584.5560302734375,577.4491577148438,2507.3212890625,400.7229309082031,243.36729431152344,588.63525390625,585.5986938476562,580.0347290039062,3723.421875,694.9857177734375,85.07543182373047,589.2284545898438,586.5025024414062,581.9124755859375,563.5782470703125,1109.3875732421875,37.66727066040039,589.7696533203125,587.3017578125,583.3897094726562,573.532958984375,1700.44189453125,196.40623474121094,586.4658203125,588.0173950195312,584.632568359375,577.7470703125,2637.953857421875,440.74224853515625,195.59591674804688,588.7684326171875,585.832275390625,580.6080932617188,461.3039855957031,818.8026733398438,42.7521858215332,589.4483032226562,586.8546142578125,582.6259765625,569.9552001953125,1388.0921630859375,118.66665649414062,589.9214477539062,587.7442016601562,584.1883544921875,576.4786987304688,2259.51953125,345.8887023925781,324.9247741699219,588.5299682617188,585.462646484375,579.7935791015625,3609.23095703125,677.9735107421875,87.29446411132812,589.2349853515625,586.5361938476562,582.0281372070312,565.35693359375,1174.9129638671875,60.146175384521484,589.862548828125,587.4655151367188,583.7149047851562,574.9257202148438,1931.8199462890625,262.1675720214844,534.5040893554688,588.2838134765625,585.0704956054688,578.87353515625,3100.189453125,554.5764770507812,132.54994201660156,589.0128173828125,586.2041625976562,581.3726806640625,555.2146606445312,989.099365234375,7.532697677612305,589.6689453125,587.17529296875],\"type\":\"scatter\"},{\"hovertemplate\":\"Index: %{x}\\u003cbr\\u003eValue: %{y:.2f}\\u003cextra\\u003e\\u003c\\u002fextra\\u003e\",\"mode\":\"lines\",\"name\":\"dt = 9.999999747378752e-05\",\"x\":[0.0,1.0101010101010102,2.0202020202020203,3.0303030303030303,4.040404040404041,5.050505050505051,6.0606060606060606,7.070707070707071,8.080808080808081,9.090909090909092,10.101010101010102,11.111111111111112,12.121212121212121,13.131313131313131,14.141414141414142,15.151515151515152,16.161616161616163,17.171717171717173,18.181818181818183,19.191919191919194,20.202020202020204,21.212121212121215,22.222222222222225,23.232323232323235,24.242424242424242,25.252525252525253,26.262626262626263,27.272727272727273,28.282828282828284,29.292929292929294,30.303030303030305,31.313131313131315,32.323232323232325,33.333333333333336,34.343434343434346,35.35353535353536,36.36363636363637,37.37373737373738,38.38383838383839,39.3939393939394,40.40404040404041,41.41414141414142,42.42424242424243,43.43434343434344,44.44444444444445,45.45454545454546,46.46464646464647,47.47474747474748,48.484848484848484,49.494949494949495,50.505050505050505,51.515151515151516,52.525252525252526,53.535353535353536,54.54545454545455,55.55555555555556,56.56565656565657,57.57575757575758,58.58585858585859,59.5959595959596,60.60606060606061,61.61616161616162,62.62626262626263,63.63636363636364,64.64646464646465,65.65656565656566,66.66666666666667,67.67676767676768,68.68686868686869,69.6969696969697,70.70707070707071,71.71717171717172,72.72727272727273,73.73737373737374,74.74747474747475,75.75757575757576,76.76767676767678,77.77777777777779,78.7878787878788,79.7979797979798,80.80808080808082,81.81818181818183,82.82828282828284,83.83838383838385,84.84848484848486,85.85858585858587,86.86868686868688,87.87878787878789,88.8888888888889,89.89898989898991,90.90909090909092,91.91919191919193,92.92929292929294,93.93939393939395,94.94949494949496,95.95959595959597,96.96969696969697,97.97979797979798,98.98989898989899,100.0],\"y\":[7.355600357055664,589.3470458984375,586.6784057617188,582.2525024414062,567.0709838867188,1222.6575927734375,70.3202896118164,589.8863525390625,587.4889526367188,583.7263793945312,574.8622436523438,1886.3614501953125,238.65518188476562,572.8270263671875,588.129638671875,584.7581176757812,577.9085083007812,2625.72021484375,422.39215087890625,224.64891052246094,588.6559448242188,585.5991821289062,579.9708251953125,3629.320556640625,662.6436767578125,98.92658996582031,589.1439208984375,586.3482055664062,581.5594482421875,557.0558471679688,980.2440795898438,2.50744891166687,589.5971069335938,587.0252075195312,582.8497314453125,570.7416381835938,1404.02490234375,113.52647399902344,589.9444580078125,587.6390380859375,583.9383544921875,575.4384155273438,1973.756103515625,260.8023376464844,552.039794921875,588.2024536132812,584.8780517578125,578.225341796875,2744.188232421875,451.2027893066406,198.27310180664062,588.7240600585938,585.7050170898438,580.2081298828125,3790.434326171875,700.5530395507812,86.34530639648438,589.20703125,586.444091796875,581.7472534179688,560.591064453125,1030.626220703125,11.743962287902832,589.6570434570312,587.1119384765625,583.0076293945312,571.58740234375,1471.54443359375,131.39010620117188,589.8955688476562,587.71826171875,584.07275390625,575.8873291015625,2064.84033203125,283.74072265625,513.5206909179688,588.2754516601562,584.9956665039062,578.5297241210938,2867.607177734375,481.0642395019531,177.2174072265625,588.791259765625,585.8104858398438,580.4379272460938,462.4398498535156,908.839111328125,12.907360076904297,589.8070678710938,587.5455322265625,584.1248168945312,577.0687866210938,2641.881103515625,502.8606262207031,126.27310943603516,589.1724243164062,586.6338500976562,582.5551147460938,571.3988037109375,1640.0433349609375],\"type\":\"scatter\"}],                        {\"template\":{\"data\":{\"barpolar\":[{\"marker\":{\"line\":{\"color\":\"white\",\"width\":0.5},\"pattern\":{\"fillmode\":\"overlay\",\"size\":10,\"solidity\":0.2}},\"type\":\"barpolar\"}],\"bar\":[{\"error_x\":{\"color\":\"#2a3f5f\"},\"error_y\":{\"color\":\"#2a3f5f\"},\"marker\":{\"line\":{\"color\":\"white\",\"width\":0.5},\"pattern\":{\"fillmode\":\"overlay\",\"size\":10,\"solidity\":0.2}},\"type\":\"bar\"}],\"carpet\":[{\"aaxis\":{\"endlinecolor\":\"#2a3f5f\",\"gridcolor\":\"#C8D4E3\",\"linecolor\":\"#C8D4E3\",\"minorgridcolor\":\"#C8D4E3\",\"startlinecolor\":\"#2a3f5f\"},\"baxis\":{\"endlinecolor\":\"#2a3f5f\",\"gridcolor\":\"#C8D4E3\",\"linecolor\":\"#C8D4E3\",\"minorgridcolor\":\"#C8D4E3\",\"startlinecolor\":\"#2a3f5f\"},\"type\":\"carpet\"}],\"choropleth\":[{\"colorbar\":{\"outlinewidth\":0,\"ticks\":\"\"},\"type\":\"choropleth\"}],\"contourcarpet\":[{\"colorbar\":{\"outlinewidth\":0,\"ticks\":\"\"},\"type\":\"contourcarpet\"}],\"contour\":[{\"colorbar\":{\"outlinewidth\":0,\"ticks\":\"\"},\"colorscale\":[[0.0,\"#0d0887\"],[0.1111111111111111,\"#46039f\"],[0.2222222222222222,\"#7201a8\"],[0.3333333333333333,\"#9c179e\"],[0.4444444444444444,\"#bd3786\"],[0.5555555555555556,\"#d8576b\"],[0.6666666666666666,\"#ed7953\"],[0.7777777777777778,\"#fb9f3a\"],[0.8888888888888888,\"#fdca26\"],[1.0,\"#f0f921\"]],\"type\":\"contour\"}],\"heatmapgl\":[{\"colorbar\":{\"outlinewidth\":0,\"ticks\":\"\"},\"colorscale\":[[0.0,\"#0d0887\"],[0.1111111111111111,\"#46039f\"],[0.2222222222222222,\"#7201a8\"],[0.3333333333333333,\"#9c179e\"],[0.4444444444444444,\"#bd3786\"],[0.5555555555555556,\"#d8576b\"],[0.6666666666666666,\"#ed7953\"],[0.7777777777777778,\"#fb9f3a\"],[0.8888888888888888,\"#fdca26\"],[1.0,\"#f0f921\"]],\"type\":\"heatmapgl\"}],\"heatmap\":[{\"colorbar\":{\"outlinewidth\":0,\"ticks\":\"\"},\"colorscale\":[[0.0,\"#0d0887\"],[0.1111111111111111,\"#46039f\"],[0.2222222222222222,\"#7201a8\"],[0.3333333333333333,\"#9c179e\"],[0.4444444444444444,\"#bd3786\"],[0.5555555555555556,\"#d8576b\"],[0.6666666666666666,\"#ed7953\"],[0.7777777777777778,\"#fb9f3a\"],[0.8888888888888888,\"#fdca26\"],[1.0,\"#f0f921\"]],\"type\":\"heatmap\"}],\"histogram2dcontour\":[{\"colorbar\":{\"outlinewidth\":0,\"ticks\":\"\"},\"colorscale\":[[0.0,\"#0d0887\"],[0.1111111111111111,\"#46039f\"],[0.2222222222222222,\"#7201a8\"],[0.3333333333333333,\"#9c179e\"],[0.4444444444444444,\"#bd3786\"],[0.5555555555555556,\"#d8576b\"],[0.6666666666666666,\"#ed7953\"],[0.7777777777777778,\"#fb9f3a\"],[0.8888888888888888,\"#fdca26\"],[1.0,\"#f0f921\"]],\"type\":\"histogram2dcontour\"}],\"histogram2d\":[{\"colorbar\":{\"outlinewidth\":0,\"ticks\":\"\"},\"colorscale\":[[0.0,\"#0d0887\"],[0.1111111111111111,\"#46039f\"],[0.2222222222222222,\"#7201a8\"],[0.3333333333333333,\"#9c179e\"],[0.4444444444444444,\"#bd3786\"],[0.5555555555555556,\"#d8576b\"],[0.6666666666666666,\"#ed7953\"],[0.7777777777777778,\"#fb9f3a\"],[0.8888888888888888,\"#fdca26\"],[1.0,\"#f0f921\"]],\"type\":\"histogram2d\"}],\"histogram\":[{\"marker\":{\"pattern\":{\"fillmode\":\"overlay\",\"size\":10,\"solidity\":0.2}},\"type\":\"histogram\"}],\"mesh3d\":[{\"colorbar\":{\"outlinewidth\":0,\"ticks\":\"\"},\"type\":\"mesh3d\"}],\"parcoords\":[{\"line\":{\"colorbar\":{\"outlinewidth\":0,\"ticks\":\"\"}},\"type\":\"parcoords\"}],\"pie\":[{\"automargin\":true,\"type\":\"pie\"}],\"scatter3d\":[{\"line\":{\"colorbar\":{\"outlinewidth\":0,\"ticks\":\"\"}},\"marker\":{\"colorbar\":{\"outlinewidth\":0,\"ticks\":\"\"}},\"type\":\"scatter3d\"}],\"scattercarpet\":[{\"marker\":{\"colorbar\":{\"outlinewidth\":0,\"ticks\":\"\"}},\"type\":\"scattercarpet\"}],\"scattergeo\":[{\"marker\":{\"colorbar\":{\"outlinewidth\":0,\"ticks\":\"\"}},\"type\":\"scattergeo\"}],\"scattergl\":[{\"marker\":{\"colorbar\":{\"outlinewidth\":0,\"ticks\":\"\"}},\"type\":\"scattergl\"}],\"scattermapbox\":[{\"marker\":{\"colorbar\":{\"outlinewidth\":0,\"ticks\":\"\"}},\"type\":\"scattermapbox\"}],\"scatterpolargl\":[{\"marker\":{\"colorbar\":{\"outlinewidth\":0,\"ticks\":\"\"}},\"type\":\"scatterpolargl\"}],\"scatterpolar\":[{\"marker\":{\"colorbar\":{\"outlinewidth\":0,\"ticks\":\"\"}},\"type\":\"scatterpolar\"}],\"scatter\":[{\"fillpattern\":{\"fillmode\":\"overlay\",\"size\":10,\"solidity\":0.2},\"type\":\"scatter\"}],\"scatterternary\":[{\"marker\":{\"colorbar\":{\"outlinewidth\":0,\"ticks\":\"\"}},\"type\":\"scatterternary\"}],\"surface\":[{\"colorbar\":{\"outlinewidth\":0,\"ticks\":\"\"},\"colorscale\":[[0.0,\"#0d0887\"],[0.1111111111111111,\"#46039f\"],[0.2222222222222222,\"#7201a8\"],[0.3333333333333333,\"#9c179e\"],[0.4444444444444444,\"#bd3786\"],[0.5555555555555556,\"#d8576b\"],[0.6666666666666666,\"#ed7953\"],[0.7777777777777778,\"#fb9f3a\"],[0.8888888888888888,\"#fdca26\"],[1.0,\"#f0f921\"]],\"type\":\"surface\"}],\"table\":[{\"cells\":{\"fill\":{\"color\":\"#EBF0F8\"},\"line\":{\"color\":\"white\"}},\"header\":{\"fill\":{\"color\":\"#C8D4E3\"},\"line\":{\"color\":\"white\"}},\"type\":\"table\"}]},\"layout\":{\"annotationdefaults\":{\"arrowcolor\":\"#2a3f5f\",\"arrowhead\":0,\"arrowwidth\":1},\"autotypenumbers\":\"strict\",\"coloraxis\":{\"colorbar\":{\"outlinewidth\":0,\"ticks\":\"\"}},\"colorscale\":{\"diverging\":[[0,\"#8e0152\"],[0.1,\"#c51b7d\"],[0.2,\"#de77ae\"],[0.3,\"#f1b6da\"],[0.4,\"#fde0ef\"],[0.5,\"#f7f7f7\"],[0.6,\"#e6f5d0\"],[0.7,\"#b8e186\"],[0.8,\"#7fbc41\"],[0.9,\"#4d9221\"],[1,\"#276419\"]],\"sequential\":[[0.0,\"#0d0887\"],[0.1111111111111111,\"#46039f\"],[0.2222222222222222,\"#7201a8\"],[0.3333333333333333,\"#9c179e\"],[0.4444444444444444,\"#bd3786\"],[0.5555555555555556,\"#d8576b\"],[0.6666666666666666,\"#ed7953\"],[0.7777777777777778,\"#fb9f3a\"],[0.8888888888888888,\"#fdca26\"],[1.0,\"#f0f921\"]],\"sequentialminus\":[[0.0,\"#0d0887\"],[0.1111111111111111,\"#46039f\"],[0.2222222222222222,\"#7201a8\"],[0.3333333333333333,\"#9c179e\"],[0.4444444444444444,\"#bd3786\"],[0.5555555555555556,\"#d8576b\"],[0.6666666666666666,\"#ed7953\"],[0.7777777777777778,\"#fb9f3a\"],[0.8888888888888888,\"#fdca26\"],[1.0,\"#f0f921\"]]},\"colorway\":[\"#636efa\",\"#EF553B\",\"#00cc96\",\"#ab63fa\",\"#FFA15A\",\"#19d3f3\",\"#FF6692\",\"#B6E880\",\"#FF97FF\",\"#FECB52\"],\"font\":{\"color\":\"#2a3f5f\"},\"geo\":{\"bgcolor\":\"white\",\"lakecolor\":\"white\",\"landcolor\":\"white\",\"showlakes\":true,\"showland\":true,\"subunitcolor\":\"#C8D4E3\"},\"hoverlabel\":{\"align\":\"left\"},\"hovermode\":\"closest\",\"mapbox\":{\"style\":\"light\"},\"paper_bgcolor\":\"white\",\"plot_bgcolor\":\"white\",\"polar\":{\"angularaxis\":{\"gridcolor\":\"#EBF0F8\",\"linecolor\":\"#EBF0F8\",\"ticks\":\"\"},\"bgcolor\":\"white\",\"radialaxis\":{\"gridcolor\":\"#EBF0F8\",\"linecolor\":\"#EBF0F8\",\"ticks\":\"\"}},\"scene\":{\"xaxis\":{\"backgroundcolor\":\"white\",\"gridcolor\":\"#DFE8F3\",\"gridwidth\":2,\"linecolor\":\"#EBF0F8\",\"showbackground\":true,\"ticks\":\"\",\"zerolinecolor\":\"#EBF0F8\"},\"yaxis\":{\"backgroundcolor\":\"white\",\"gridcolor\":\"#DFE8F3\",\"gridwidth\":2,\"linecolor\":\"#EBF0F8\",\"showbackground\":true,\"ticks\":\"\",\"zerolinecolor\":\"#EBF0F8\"},\"zaxis\":{\"backgroundcolor\":\"white\",\"gridcolor\":\"#DFE8F3\",\"gridwidth\":2,\"linecolor\":\"#EBF0F8\",\"showbackground\":true,\"ticks\":\"\",\"zerolinecolor\":\"#EBF0F8\"}},\"shapedefaults\":{\"line\":{\"color\":\"#2a3f5f\"}},\"ternary\":{\"aaxis\":{\"gridcolor\":\"#DFE8F3\",\"linecolor\":\"#A2B1C6\",\"ticks\":\"\"},\"baxis\":{\"gridcolor\":\"#DFE8F3\",\"linecolor\":\"#A2B1C6\",\"ticks\":\"\"},\"bgcolor\":\"white\",\"caxis\":{\"gridcolor\":\"#DFE8F3\",\"linecolor\":\"#A2B1C6\",\"ticks\":\"\"}},\"title\":{\"x\":0.05},\"xaxis\":{\"automargin\":true,\"gridcolor\":\"#EBF0F8\",\"linecolor\":\"#EBF0F8\",\"ticks\":\"\",\"title\":{\"standoff\":15},\"zerolinecolor\":\"#EBF0F8\",\"zerolinewidth\":2},\"yaxis\":{\"automargin\":true,\"gridcolor\":\"#EBF0F8\",\"linecolor\":\"#EBF0F8\",\"ticks\":\"\",\"title\":{\"standoff\":15},\"zerolinecolor\":\"#EBF0F8\",\"zerolinewidth\":2}}},\"title\":{\"text\":\"Deviation Metrics for All Rows\"},\"xaxis\":{\"title\":{\"text\":\"Time Step\\u002fIndex\"},\"rangeslider\":{\"visible\":true},\"type\":\"linear\"},\"yaxis\":{\"title\":{\"text\":\"Deviation Value\"}},\"hovermode\":\"x unified\",\"showlegend\":true},                        {\"responsive\": true}                    ).then(function(){\n",
       "                            \n",
       "var gd = document.getElementById('2bb563d7-aea0-458a-bca6-f8083c297020');\n",
       "var x = new MutationObserver(function (mutations, observer) {{\n",
       "        var display = window.getComputedStyle(gd).display;\n",
       "        if (!display || display === 'none') {{\n",
       "            console.log([gd, 'removed!']);\n",
       "            Plotly.purge(gd);\n",
       "            observer.disconnect();\n",
       "        }}\n",
       "}});\n",
       "\n",
       "// Listen for the removal of the full notebook cells\n",
       "var notebookContainer = gd.closest('#notebook-container');\n",
       "if (notebookContainer) {{\n",
       "    x.observe(notebookContainer, {childList: true});\n",
       "}}\n",
       "\n",
       "// Listen for the clearing of the current output cell\n",
       "var outputEl = gd.closest('.output');\n",
       "if (outputEl) {{\n",
       "    x.observe(outputEl, {childList: true});\n",
       "}}\n",
       "\n",
       "                        })                };                });            </script>        </div>"
      ]
     },
     "metadata": {},
     "output_type": "display_data"
    }
   ],
   "source": [
    "plot_all_trajectories(filter_dataset(ds, df_sub), metric=\"dev\", label_column=\"dt\")"
   ]
  },
  {
   "cell_type": "code",
   "execution_count": null,
   "metadata": {},
   "outputs": [],
   "source": []
  }
 ],
 "metadata": {
  "kernelspec": {
   "display_name": "Python 3",
   "language": "python",
   "name": "python3"
  },
  "language_info": {
   "codemirror_mode": {
    "name": "ipython",
    "version": 3
   },
   "file_extension": ".py",
   "mimetype": "text/x-python",
   "name": "python",
   "nbconvert_exporter": "python",
   "pygments_lexer": "ipython3",
   "version": "3.11.6"
  },
  "orig_nbformat": 4
 },
 "nbformat": 4,
 "nbformat_minor": 2
}
